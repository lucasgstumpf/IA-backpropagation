{
  "nbformat": 4,
  "nbformat_minor": 0,
  "metadata": {
    "colab": {
      "provenance": [],
      "collapsed_sections": [
        "_137DS8hWJA-",
        "82jtJDmvWOsF"
      ],
      "include_colab_link": true
    },
    "kernelspec": {
      "name": "python3",
      "display_name": "Python 3"
    },
    "language_info": {
      "name": "python"
    }
  },
  "cells": [
    {
      "cell_type": "markdown",
      "metadata": {
        "id": "view-in-github",
        "colab_type": "text"
      },
      "source": [
        "<a href=\"https://colab.research.google.com/github/lucasgstumpf/IA-backpropagation/blob/main/main_colab.ipynb\" target=\"_parent\"><img src=\"https://colab.research.google.com/assets/colab-badge.svg\" alt=\"Open In Colab\"/></a>"
      ]
    },
    {
      "cell_type": "code",
      "execution_count": 21,
      "metadata": {
        "id": "xgkKKxwRe-Rt"
      },
      "outputs": [],
      "source": [
        "import pandas as pd\n",
        "import numpy as np\n",
        "\n",
        "#https://www.dropbox.com/sh/cisaqxnki0rq5xz/AACNFkOgNd3VQ__Or4mAGjY_a/7º%20Semestre?dl=0&file_subpath=%2FInteligência+Artificial%2FProvas%2FIA%2FP2-IA.pdf&preview=Inteligência+Artificial.rar&subfolder_nav_tracking=1"
      ]
    },
    {
      "cell_type": "markdown",
      "source": [
        "##Manipulação do arquivo (Entrada)\n"
      ],
      "metadata": {
        "id": "_137DS8hWJA-"
      }
    },
    {
      "cell_type": "code",
      "source": [
        "def arquivo_treinamento(path,qtd_entrada):\n",
        "  df_treinamento = pd.read_csv(path)\n",
        "\n",
        "  if (qtd_entrada == 1):\n",
        "    df_treinamento = df_treinamento[[\"X1\",\"classe\"]]\n",
        "  if (qtd_entrada == 2):\n",
        "    df_treinamento = df_treinamento[[\"X1\",\"X2\",\"classe\"]]\n",
        "  if (qtd_entrada == 3):\n",
        "    df_treinamento = df_treinamento[[\"X1\",\"X2\",\"X3\",\"classe\"]]  \n",
        "  if (qtd_entrada == 4):\n",
        "    df_treinamento = df_treinamento[[\"X1\",\"X2\",\"X3\",\"X4\",\"classe\"]]\n",
        "  if (qtd_entrada == 5):\n",
        "    df_treinamento = df_treinamento[[\"X1\",\"X2\",\"X3\",\"X4\",\"X5\",\"classe\"]]\n",
        "  if (qtd_entrada == 6):\n",
        "    df_treinamento = df_treinamento[[\"X1\",\"X2\",\"X3\",\"X4\",\"X5\",\"X6\",\"classe\"]]\n",
        "\n",
        "  return df_treinamento\n"
      ],
      "metadata": {
        "id": "e00yxY6I-UUg"
      },
      "execution_count": 22,
      "outputs": []
    },
    {
      "cell_type": "markdown",
      "source": [
        "##Criação dos pesos"
      ],
      "metadata": {
        "id": "82jtJDmvWOsF"
      }
    },
    {
      "cell_type": "code",
      "source": [
        "def cria_pesos(input_size, hidden_sizes, output_size): \n",
        "  # Defina as dimensões das camadas de sua rede\n",
        "  #input_size : Camada de entrada - INT\n",
        "  #hidden_sizes : Camadas ocultas - Array\n",
        "  #output_size : Camada de entrada - INT\n",
        "\n",
        "  # Crie uma lista para armazenar os pesos\n",
        "  weights = []\n",
        "\n",
        "  # Gerando valores aleatórios para a primeira camada\n",
        "  weights.append(pd.DataFrame(np.random.rand(input_size, hidden_sizes[0]), columns=range(hidden_sizes[0])))\n",
        "\n",
        "  # Gerando valores aleatórios para as outras camadas ocultas\n",
        "  for i in range(1, len(hidden_sizes)):\n",
        "      weights.append(pd.DataFrame(np.random.rand(hidden_sizes[i-1], hidden_sizes[i]), columns=range(hidden_sizes[i])))\n",
        "\n",
        "  # Gerando valores aleatórios para a camada de saída\n",
        "  weights.append(pd.DataFrame(np.random.rand(hidden_sizes[-1], output_size), columns=range(output_size)))\n",
        "\n",
        "  return weights\n",
        "\n"
      ],
      "metadata": {
        "id": "MLxcZ10ZfI7Z"
      },
      "execution_count": 24,
      "outputs": []
    },
    {
      "cell_type": "code",
      "source": [
        "#SEED DE TESTE\n",
        "weights[0][0].iloc[0] = 1.4\n",
        "weights[0][0].iloc[1] = 1.3\n",
        "weights[0][1].iloc[0] = 0.9\n",
        "weights[0][1].iloc[1] = 1.2\n",
        "\n",
        "weights[0].index = [2,3]\n",
        "\n",
        "weights[1][0].iloc[0] = 0.5\n",
        "weights[1][0].iloc[1] = 0.9\n",
        "\n",
        "weights[0]"
      ],
      "metadata": {
        "id": "c5A8-uCByBrl"
      },
      "execution_count": null,
      "outputs": []
    },
    {
      "cell_type": "markdown",
      "source": [
        "##Processamento dos dados"
      ],
      "metadata": {
        "id": "Fzj_8t6TWU0M"
      }
    },
    {
      "cell_type": "code",
      "source": [
        "\n",
        "def processa_rede(weights):\n",
        "\n",
        "  for camada in range(len(weights)): #As camadas basicamente representam o meio entre os neuronios, ou seja, o  weights[0] representa os pesos entre a entrada e a primeira camada de neuronios\n",
        "    indices = weights[camada].index.to_numpy() #Retorna um array com os indices\n",
        "    colunas = weights[camada].columns.to_numpy() #Retorna um array com as colunas\n",
        "    resultado = []\n",
        "    for i in colunas:\n",
        "      if(i != \"erro\"):\n",
        "        valores_pesos = weights[camada][i].values #Pega todos os pesos de uma coluna\n",
        "        multiplicacao = func_transferencia(valores_pesos * indices) \n",
        "        soma = np.sum(multiplicacao)\n",
        "        resultado = np.append(resultado,soma)\n",
        "    try:\n",
        "      weights[camada+1].index = resultado\n",
        "    except:\n",
        "      print(f\"resultado = {resultado}\")\n",
        "  return resultado[0]\n",
        "\n",
        "\n",
        "\n"
      ],
      "metadata": {
        "id": "rinEPK0l_Wxt"
      },
      "execution_count": 25,
      "outputs": []
    },
    {
      "cell_type": "markdown",
      "source": [
        "#Calculo de erros"
      ],
      "metadata": {
        "id": "nYrsGR7WtwCX"
      }
    },
    {
      "cell_type": "code",
      "source": [
        "\n",
        "def ajusta_pesos(weights,erro_geral):\n",
        "  primeira = True\n",
        "  print(\"\\n==INICIANDO AJUSTES DE PESO==\\n\")\n",
        "  for camada in range(len(weights)-1,-1,-1):\n",
        "    print(f\"\\n@@@@@@@@@@@@@@@@@@@@@@@@@@@@\\n-CAMADA: {camada}\")\n",
        "    print(f\"    weights[camada]: \\n {weights[camada]}\\n\\n\")\n",
        "\n",
        "    indices = weights[camada].index.to_numpy() #Retorna um array com os indices\n",
        "    colunas = weights[camada].columns.to_numpy() #Retorna um array com as colunas\n",
        "    for i in colunas:\n",
        "      if(i != \"erro\"):\n",
        "        print(f\"    ----------\\nCOLUNA: {i}\")\n",
        "        if(primeira):\n",
        "          print(f\"    -PRIMEIRA CAMADA SENDO PROCESSADA\")\n",
        "          #7 - calcula-se o erro dos neurônios da camada oculta\n",
        "          erro_linha = weights[camada][i].values*erro_geral*func_transferencia_derivada #lembrar de por funcao\n",
        "          weights[camada][\"erro\"] = erro_linha\n",
        "          primeira = False\n",
        "          #8 - os pesos da saída são ajustados\n",
        "          print(f\"    weights[camada][i] = {weights[camada][i].values}\")\n",
        "          print(f\"    erro_geral = {erro_geral}\")\n",
        "          print(f\"    indices = {indices}\")\n",
        "          weights[camada][i] = weights[camada][i] + (n*erro_geral) * indices\n",
        "          print(f\"    nweights[camada][i] = {weights[camada][i].values}\")\n",
        "\n",
        "          print(f\"    \\nweights[camada]: \\n {weights[camada]}\")\n",
        "          \n",
        "        else:\n",
        "          \n",
        "          print(f\"    weights[camada]: \\n {weights[camada][i]}\\n\\n\")\n",
        "          #9 - os pesos da camada oculta são ajustados\n",
        "          erro_geral = weights[camada+1][\"erro\"].iloc[i]\n",
        "          erro_linha = weights[camada][i].values*erro_geral #lembrar de por funcao\n",
        "          weights[camada][\"erro\"] = erro_linha\n",
        "          primeira = False\n",
        "          #8 - os pesos da saída são ajustados\n",
        "          print(f\"    weights[{camada}][{i}] = {weights[camada][i].values}\") # O ERRO TA AQUI\n",
        "          print(f\"    erro_geral = {erro_geral}\")\n",
        "          print(f\"    indices = {indices}\")\n",
        "          print(f\"    n = {n}\")\n",
        "          weights[camada][i] = weights[camada][i] + (n* erro_geral) * indices\n",
        "          print(f\"    weights[{camada}][{i}] = {weights[camada][i].values}\")\n",
        "\n",
        "          print(f\"    \\nweights[camada]: PROCESSADA\\n {weights[camada]}\")\n",
        "  return weights\n",
        "\n",
        "\n"
      ],
      "metadata": {
        "id": "cuG4bN5rCHLb"
      },
      "execution_count": 26,
      "outputs": []
    },
    {
      "cell_type": "markdown",
      "source": [
        "## MAIN"
      ],
      "metadata": {
        "id": "_UGEAUYi8Oa8"
      }
    },
    {
      "cell_type": "code",
      "source": [
        "'''\n",
        "Manipulação real dos arquivos.\n",
        "- Selecionar as colunas desejadas\n",
        "- Quantidade de linhas\n",
        "\n",
        "'''\n",
        "camadas_entrada = 2\n",
        "\n",
        "n = 0.4\n",
        "func_transferencia =  lambda x : x/2\n",
        "func_transferencia_derivada = 0.5\n",
        "\n",
        "\n",
        "df_treinamento = arquivo_treinamento(\"/content/treinamento.csv\",camadas_entrada) #Numero de colunas na entrada\n",
        "print(df_treinamento.iloc[0])\n",
        "primeira = True\n",
        "\n",
        "for linha_train in range(len(df_treinamento)): #Loop vai rodar uma linha do documento\n",
        "\n",
        "  df_train = df_treinamento.iloc[linha_train]\n",
        "  df_train = df_train.to_frame().T\n",
        "  df_train = df_train.values.tolist()\n",
        "  entrada = df_train[0][:-1] \n",
        "  classe_desejada = df_train[0][-1]\n",
        "\n",
        "  if primeira: #Se for a primeira vez que está rodando cria os pesos.\n",
        "    weights[0].index = entrada\n",
        "    input_size = camadas_entrada\n",
        "    hidden_sizes = [2,2,2]\n",
        "    output_size = 1\n",
        "    \n",
        "    weights = cria_pesos(input_size,hidden_sizes,output_size)\n",
        "    for camada in range(len(weights)-1,-1,-1): #As camadas basicamente representam o meio entre os neuronios, ou seja, o  weights[0] representa os pesos entre a entrada e a primeira camada de neuronios\n",
        "      weights[camada]['erro'] = pd.Series()\n",
        "    primeira = False\n",
        "\n"
      ],
      "metadata": {
        "colab": {
          "base_uri": "https://localhost:8080/"
        },
        "id": "w5RR27km8RmX",
        "outputId": "dba2c259-15d7-4b83-f51a-af1149975e99"
      },
      "execution_count": 34,
      "outputs": [
        {
          "output_type": "stream",
          "name": "stdout",
          "text": [
            "X1         1\n",
            "X2        19\n",
            "classe     1\n",
            "Name: 0, dtype: int64\n",
            "[          0         1  erro\n",
            "0  0.026088  0.854091   NaN\n",
            "1  0.655048  0.393063   NaN,           0         1  erro\n",
            "0  0.728369  0.292492   NaN\n",
            "1  0.825916  0.969620   NaN,           0         1  erro\n",
            "0  0.584189  0.053723   NaN\n",
            "1  0.468893  0.173213   NaN,           0  erro\n",
            "0  0.366868   NaN\n",
            "1  0.249227   NaN]\n"
          ]
        },
        {
          "output_type": "stream",
          "name": "stderr",
          "text": [
            "<ipython-input-34-57ded90b680e>:33: DeprecationWarning: The default dtype for empty Series will be 'object' instead of 'float64' in a future version. Specify a dtype explicitly to silence this warning.\n",
            "  weights[camada]['erro'] = pd.Series()\n"
          ]
        }
      ]
    },
    {
      "cell_type": "code",
      "source": [
        "print(weights[0])"
      ],
      "metadata": {
        "colab": {
          "base_uri": "https://localhost:8080/"
        },
        "id": "TPoUB60BEJAc",
        "outputId": "060d1ff3-1894-4a62-fddb-404ed8531331"
      },
      "execution_count": 41,
      "outputs": [
        {
          "output_type": "stream",
          "name": "stdout",
          "text": [
            "          0         1  erro\n",
            "0  0.026088  0.854091   NaN\n",
            "1  0.655048  0.393063   NaN\n"
          ]
        }
      ]
    },
    {
      "cell_type": "code",
      "source": [
        "erro = True\n",
        "valorErroEntrada = 0.1\n",
        "numeroIteracoes = False\n",
        "numeroIteracoesInt = 500\n",
        "i = 0\n",
        "while(True):\n",
        "  resultado = processa_rede(weights)\n",
        "  erro_geral = (classe_desejada - resultado) * func_transferencia_derivada\n",
        "  weights = ajusta_pesos(weights,erro_geral)\n",
        "\n",
        "  if(erro == True) and (erro_geral < valorErroEntrada):\n",
        "    print(\"Resultado: \", resultado)\n",
        "    break\n",
        "  if numeroIteracoes == True and numeroIteracoesInt < i:\n",
        "    print(\"Resultado: \" + resultado)\n",
        "    break\n",
        "\n",
        "  i = i + 1"
      ],
      "metadata": {
        "id": "0TDHjoDb7fwI"
      },
      "execution_count": null,
      "outputs": []
    }
  ]
}