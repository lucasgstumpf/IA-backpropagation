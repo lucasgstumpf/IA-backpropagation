{
  "nbformat": 4,
  "nbformat_minor": 0,
  "metadata": {
    "colab": {
      "provenance": [],
      "collapsed_sections": [
        "_137DS8hWJA-",
        "82jtJDmvWOsF"
      ],
      "include_colab_link": true
    },
    "kernelspec": {
      "name": "python3",
      "display_name": "Python 3"
    },
    "language_info": {
      "name": "python"
    }
  },
  "cells": [
    {
      "cell_type": "markdown",
      "metadata": {
        "id": "view-in-github",
        "colab_type": "text"
      },
      "source": [
        "<a href=\"https://colab.research.google.com/github/lucasgstumpf/IA-backpropagation/blob/main/main_colab.ipynb\" target=\"_parent\"><img src=\"https://colab.research.google.com/assets/colab-badge.svg\" alt=\"Open In Colab\"/></a>"
      ]
    },
    {
      "cell_type": "code",
      "execution_count": null,
      "metadata": {
        "id": "xgkKKxwRe-Rt"
      },
      "outputs": [],
      "source": [
        "import pandas as pd\n",
        "import numpy as np\n",
        "\n",
        "#https://www.dropbox.com/sh/cisaqxnki0rq5xz/AACNFkOgNd3VQ__Or4mAGjY_a/7º%20Semestre?dl=0&file_subpath=%2FInteligência+Artificial%2FProvas%2FIA%2FP2-IA.pdf&preview=Inteligência+Artificial.rar&subfolder_nav_tracking=1"
      ]
    },
    {
      "cell_type": "markdown",
      "source": [
        "##Manipulação do arquivo (Entrada)\n"
      ],
      "metadata": {
        "id": "_137DS8hWJA-"
      }
    },
    {
      "cell_type": "code",
      "source": [
        "#Manipulação de arquivo de treinamento\n",
        "\n",
        "df_treinamento = pd.read_csv(\"/content/treinamento.csv\")\n",
        "print(df_treinamento)\n",
        "entrada = 3"
      ],
      "metadata": {
        "colab": {
          "base_uri": "https://localhost:8080/"
        },
        "id": "nfjFWjiHPEuT",
        "outputId": "d6797c2f-dedc-43aa-9769-3eb01756b7a5"
      },
      "execution_count": null,
      "outputs": [
        {
          "output_type": "stream",
          "name": "stdout",
          "text": [
            "     X1  X2  X3  X4  X5  X6  classe\n",
            "0     1  19  35  28  17   4       1\n",
            "1     4  22  38  32  14   9       1\n",
            "2    -2  16  39  29  21   5       1\n",
            "3    -2  22  33  32  22   1       1\n",
            "4    -1  16  33  26  16   7       1\n",
            "..   ..  ..  ..  ..  ..  ..     ...\n",
            "822  13  74  63  76  82  66       5\n",
            "823  18  81  60  79  84  72       5\n",
            "824  19  73  64  84  83  74       5\n",
            "825  16  77  66  75  86  66       5\n",
            "826  20  83  58  84  85  67       5\n",
            "\n",
            "[827 rows x 7 columns]\n"
          ]
        }
      ]
    },
    {
      "cell_type": "code",
      "source": [
        "df_treinamento = df_treinamento[[\"X1\",\"X2\",\"classe\"]]"
      ],
      "metadata": {
        "id": "xahvuIu0SwgM"
      },
      "execution_count": null,
      "outputs": []
    },
    {
      "cell_type": "code",
      "source": [
        "df_treinamento = df_treinamento.iloc[0]"
      ],
      "metadata": {
        "id": "gNKh0jyWVr_7"
      },
      "execution_count": null,
      "outputs": []
    },
    {
      "cell_type": "code",
      "source": [
        "df_treinamento = df_treinamento.to_frame().T\n"
      ],
      "metadata": {
        "id": "DYziF2_RQx_h"
      },
      "execution_count": null,
      "outputs": []
    },
    {
      "cell_type": "code",
      "source": [
        "df_treinamento = df_treinamento.values.tolist()"
      ],
      "metadata": {
        "id": "WbeHLkMnpPx_"
      },
      "execution_count": null,
      "outputs": []
    },
    {
      "cell_type": "code",
      "source": [
        "df_treinamento"
      ],
      "metadata": {
        "id": "bmH_k5sSozY6",
        "colab": {
          "base_uri": "https://localhost:8080/"
        },
        "outputId": "2f0e7f02-443d-4fc7-ed5e-fc4993312ddf"
      },
      "execution_count": null,
      "outputs": [
        {
          "output_type": "execute_result",
          "data": {
            "text/plain": [
              "[[1, 19, 1]]"
            ]
          },
          "metadata": {},
          "execution_count": 114
        }
      ]
    },
    {
      "cell_type": "code",
      "source": [
        "entrada = df_treinamento[0][:-1] #Cada entrada vai ter mais ou menos isso aqui\n",
        "classe_desejada = df_treinamento[0][-1]"
      ],
      "metadata": {
        "id": "NuFVq9otqUjT"
      },
      "execution_count": null,
      "outputs": []
    },
    {
      "cell_type": "code",
      "source": [
        "print(classe_desejada)"
      ],
      "metadata": {
        "colab": {
          "base_uri": "https://localhost:8080/"
        },
        "id": "6xxj3C9lqqDx",
        "outputId": "4bd0d801-afb5-4554-82d0-14d1895fae7b"
      },
      "execution_count": null,
      "outputs": [
        {
          "output_type": "stream",
          "name": "stdout",
          "text": [
            "1\n"
          ]
        }
      ]
    },
    {
      "cell_type": "markdown",
      "source": [
        "##Criação dos pesos"
      ],
      "metadata": {
        "id": "82jtJDmvWOsF"
      }
    },
    {
      "cell_type": "code",
      "source": [
        "# Defina as dimensões das camadas de sua rede\n",
        "input_size = 2\n",
        "hidden_sizes = [2]\n",
        "output_size = 1\n",
        "\n",
        "# Crie uma lista para armazenar os pesos\n",
        "weights = []\n",
        "\n",
        "# Gerando valores aleatórios para a primeira camada\n",
        "weights.append(pd.DataFrame(np.random.rand(input_size, hidden_sizes[0]), columns=range(hidden_sizes[0])))\n",
        "\n",
        "# Gerando valores aleatórios para as outras camadas ocultas\n",
        "for i in range(1, len(hidden_sizes)):\n",
        "    weights.append(pd.DataFrame(np.random.rand(hidden_sizes[i-1], hidden_sizes[i]), columns=range(hidden_sizes[i])))\n",
        "\n",
        "# Gerando valores aleatórios para a camada de saída\n",
        "weights.append(pd.DataFrame(np.random.rand(hidden_sizes[-1], output_size), columns=range(output_size)))\n",
        "\n"
      ],
      "metadata": {
        "id": "MLxcZ10ZfI7Z"
      },
      "execution_count": null,
      "outputs": []
    },
    {
      "cell_type": "code",
      "source": [
        "weights[0][0].iloc[0] = 1.4\n",
        "weights[0][0].iloc[1] = 1.3\n",
        "weights[0][1].iloc[0] = 0.9\n",
        "weights[0][1].iloc[1] = 1.2\n",
        "\n",
        "weights[0].index = [2,3]\n",
        "\n",
        "weights[1][0].iloc[0] = 0.5\n",
        "weights[1][0].iloc[1] = 0.9\n",
        "\n",
        "weights[0]"
      ],
      "metadata": {
        "id": "c5A8-uCByBrl",
        "outputId": "e5725ff6-1872-447b-89ba-8baf050ff99b",
        "colab": {
          "base_uri": "https://localhost:8080/",
          "height": 112
        }
      },
      "execution_count": null,
      "outputs": [
        {
          "output_type": "execute_result",
          "data": {
            "text/plain": [
              "     0    1\n",
              "2  1.4  0.9\n",
              "3  1.3  1.2"
            ],
            "text/html": [
              "\n",
              "  <div id=\"df-23f1f25b-653f-4203-92b4-2b52248e533e\">\n",
              "    <div class=\"colab-df-container\">\n",
              "      <div>\n",
              "<style scoped>\n",
              "    .dataframe tbody tr th:only-of-type {\n",
              "        vertical-align: middle;\n",
              "    }\n",
              "\n",
              "    .dataframe tbody tr th {\n",
              "        vertical-align: top;\n",
              "    }\n",
              "\n",
              "    .dataframe thead th {\n",
              "        text-align: right;\n",
              "    }\n",
              "</style>\n",
              "<table border=\"1\" class=\"dataframe\">\n",
              "  <thead>\n",
              "    <tr style=\"text-align: right;\">\n",
              "      <th></th>\n",
              "      <th>0</th>\n",
              "      <th>1</th>\n",
              "    </tr>\n",
              "  </thead>\n",
              "  <tbody>\n",
              "    <tr>\n",
              "      <th>2</th>\n",
              "      <td>1.4</td>\n",
              "      <td>0.9</td>\n",
              "    </tr>\n",
              "    <tr>\n",
              "      <th>3</th>\n",
              "      <td>1.3</td>\n",
              "      <td>1.2</td>\n",
              "    </tr>\n",
              "  </tbody>\n",
              "</table>\n",
              "</div>\n",
              "      <button class=\"colab-df-convert\" onclick=\"convertToInteractive('df-23f1f25b-653f-4203-92b4-2b52248e533e')\"\n",
              "              title=\"Convert this dataframe to an interactive table.\"\n",
              "              style=\"display:none;\">\n",
              "        \n",
              "  <svg xmlns=\"http://www.w3.org/2000/svg\" height=\"24px\"viewBox=\"0 0 24 24\"\n",
              "       width=\"24px\">\n",
              "    <path d=\"M0 0h24v24H0V0z\" fill=\"none\"/>\n",
              "    <path d=\"M18.56 5.44l.94 2.06.94-2.06 2.06-.94-2.06-.94-.94-2.06-.94 2.06-2.06.94zm-11 1L8.5 8.5l.94-2.06 2.06-.94-2.06-.94L8.5 2.5l-.94 2.06-2.06.94zm10 10l.94 2.06.94-2.06 2.06-.94-2.06-.94-.94-2.06-.94 2.06-2.06.94z\"/><path d=\"M17.41 7.96l-1.37-1.37c-.4-.4-.92-.59-1.43-.59-.52 0-1.04.2-1.43.59L10.3 9.45l-7.72 7.72c-.78.78-.78 2.05 0 2.83L4 21.41c.39.39.9.59 1.41.59.51 0 1.02-.2 1.41-.59l7.78-7.78 2.81-2.81c.8-.78.8-2.07 0-2.86zM5.41 20L4 18.59l7.72-7.72 1.47 1.35L5.41 20z\"/>\n",
              "  </svg>\n",
              "      </button>\n",
              "      \n",
              "  <style>\n",
              "    .colab-df-container {\n",
              "      display:flex;\n",
              "      flex-wrap:wrap;\n",
              "      gap: 12px;\n",
              "    }\n",
              "\n",
              "    .colab-df-convert {\n",
              "      background-color: #E8F0FE;\n",
              "      border: none;\n",
              "      border-radius: 50%;\n",
              "      cursor: pointer;\n",
              "      display: none;\n",
              "      fill: #1967D2;\n",
              "      height: 32px;\n",
              "      padding: 0 0 0 0;\n",
              "      width: 32px;\n",
              "    }\n",
              "\n",
              "    .colab-df-convert:hover {\n",
              "      background-color: #E2EBFA;\n",
              "      box-shadow: 0px 1px 2px rgba(60, 64, 67, 0.3), 0px 1px 3px 1px rgba(60, 64, 67, 0.15);\n",
              "      fill: #174EA6;\n",
              "    }\n",
              "\n",
              "    [theme=dark] .colab-df-convert {\n",
              "      background-color: #3B4455;\n",
              "      fill: #D2E3FC;\n",
              "    }\n",
              "\n",
              "    [theme=dark] .colab-df-convert:hover {\n",
              "      background-color: #434B5C;\n",
              "      box-shadow: 0px 1px 3px 1px rgba(0, 0, 0, 0.15);\n",
              "      filter: drop-shadow(0px 1px 2px rgba(0, 0, 0, 0.3));\n",
              "      fill: #FFFFFF;\n",
              "    }\n",
              "  </style>\n",
              "\n",
              "      <script>\n",
              "        const buttonEl =\n",
              "          document.querySelector('#df-23f1f25b-653f-4203-92b4-2b52248e533e button.colab-df-convert');\n",
              "        buttonEl.style.display =\n",
              "          google.colab.kernel.accessAllowed ? 'block' : 'none';\n",
              "\n",
              "        async function convertToInteractive(key) {\n",
              "          const element = document.querySelector('#df-23f1f25b-653f-4203-92b4-2b52248e533e');\n",
              "          const dataTable =\n",
              "            await google.colab.kernel.invokeFunction('convertToInteractive',\n",
              "                                                     [key], {});\n",
              "          if (!dataTable) return;\n",
              "\n",
              "          const docLinkHtml = 'Like what you see? Visit the ' +\n",
              "            '<a target=\"_blank\" href=https://colab.research.google.com/notebooks/data_table.ipynb>data table notebook</a>'\n",
              "            + ' to learn more about interactive tables.';\n",
              "          element.innerHTML = '';\n",
              "          dataTable['output_type'] = 'display_data';\n",
              "          await google.colab.output.renderOutput(dataTable, element);\n",
              "          const docLink = document.createElement('div');\n",
              "          docLink.innerHTML = docLinkHtml;\n",
              "          element.appendChild(docLink);\n",
              "        }\n",
              "      </script>\n",
              "    </div>\n",
              "  </div>\n",
              "  "
            ]
          },
          "metadata": {},
          "execution_count": 118
        }
      ]
    },
    {
      "cell_type": "markdown",
      "source": [
        "##Processamento dos dados"
      ],
      "metadata": {
        "id": "Fzj_8t6TWU0M"
      }
    },
    {
      "cell_type": "code",
      "source": [
        "#weights é um array de data frame\n",
        "n = 0.4\n",
        "\n",
        "func_transferencia =  lambda x : x/2\n",
        "func_transferencia_derivada = 0.5\n",
        "\n",
        "def processa_rede(weights):\n",
        "  #weights[0].index = entrada  #atualizo os indices da entrada\n",
        "\n",
        "  for camada in range(len(weights)): #As camadas basicamente representam o meio entre os neuronios, ou seja, o  weights[0] representa os pesos entre a entrada e a primeira camada de neuronios\n",
        "    indices = weights[camada].index.to_numpy() #Retorna um array com os indices\n",
        "    colunas = weights[camada].columns.to_numpy() #Retorna um array com as colunas\n",
        "    resultado = []\n",
        "    for i in colunas:\n",
        "      if(i != \"erro\"):\n",
        "        valores_pesos = weights[camada][i].values #Pega todos os pesos de uma coluna\n",
        "        multiplicacao = func_transferencia(valores_pesos * indices) \n",
        "        soma = np.sum(multiplicacao)\n",
        "        resultado = np.append(resultado,soma)\n",
        "    try:\n",
        "      weights[camada+1].index = resultado\n",
        "    except:\n",
        "      print(f\"resultado = {resultado}\")\n",
        "  return resultado[0]\n",
        "\n",
        "\n",
        "\n"
      ],
      "metadata": {
        "id": "rinEPK0l_Wxt"
      },
      "execution_count": null,
      "outputs": []
    },
    {
      "cell_type": "code",
      "source": [
        "processa_rede(weights)\n",
        "\n",
        "print(weights[0])\n",
        "print(weights[1])"
      ],
      "metadata": {
        "id": "IEV2VDv_2OTc",
        "outputId": "57a1c54c-ac18-44cc-e6f5-d852e1e3e22a",
        "colab": {
          "base_uri": "https://localhost:8080/"
        }
      },
      "execution_count": null,
      "outputs": [
        {
          "output_type": "stream",
          "name": "stdout",
          "text": [
            "resultado = [2.0525]\n",
            "     0    1\n",
            "2  1.4  0.9\n",
            "3  1.3  1.2\n",
            "        0\n",
            "3.35  0.5\n",
            "2.70  0.9\n"
          ]
        }
      ]
    },
    {
      "cell_type": "markdown",
      "source": [
        "#Calculo de erros"
      ],
      "metadata": {
        "id": "nYrsGR7WtwCX"
      }
    },
    {
      "cell_type": "code",
      "source": [],
      "metadata": {
        "id": "6z0PN1FpaywU"
      },
      "execution_count": null,
      "outputs": []
    },
    {
      "cell_type": "code",
      "source": [
        "for camada in range(len(weights)-1,-1,-1): #As camadas basicamente representam o meio entre os neuronios, ou seja, o  weights[0] representa os pesos entre a entrada e a primeira camada de neuronios\n",
        "  weights[camada]['erro'] = pd.Series()"
      ],
      "metadata": {
        "colab": {
          "base_uri": "https://localhost:8080/"
        },
        "id": "uuhEMlpfE22T",
        "outputId": "7fec402b-f731-40e0-9091-3ceb69f5af0a"
      },
      "execution_count": null,
      "outputs": [
        {
          "output_type": "stream",
          "name": "stderr",
          "text": [
            "<ipython-input-121-f22286507a00>:2: DeprecationWarning: The default dtype for empty Series will be 'object' instead of 'float64' in a future version. Specify a dtype explicitly to silence this warning.\n",
            "  weights[camada]['erro'] = pd.Series()\n"
          ]
        }
      ]
    },
    {
      "cell_type": "code",
      "source": [
        "\n",
        "def ajusta_pesos(weights,erro_geral):\n",
        "  primeira = True\n",
        "  print(\"\\n==INICIANDO AJUSTES DE PESO==\\n\")\n",
        "  for camada in range(len(weights)-1,-1,-1):\n",
        "    print(f\"\\n@@@@@@@@@@@@@@@@@@@@@@@@@@@@\\n-CAMADA: {camada}\")\n",
        "    print(f\"    weights[camada]: \\n {weights[camada]}\\n\\n\")\n",
        "\n",
        "    indices = weights[camada].index.to_numpy() #Retorna um array com os indices\n",
        "    colunas = weights[camada].columns.to_numpy() #Retorna um array com as colunas\n",
        "    for i in colunas:\n",
        "      if(i != \"erro\"):\n",
        "        print(f\"    ----------\\nCOLUNA: {i}\")\n",
        "        if(primeira):\n",
        "          print(f\"    -PRIMEIRA CAMADA SENDO PROCESSADA\")\n",
        "          #7 - calcula-se o erro dos neurônios da camada oculta\n",
        "          erro_linha = weights[camada][i].values*erro_geral*func_transferencia_derivada #lembrar de por funcao\n",
        "          weights[camada][\"erro\"] = erro_linha\n",
        "          primeira = False\n",
        "          #8 - os pesos da saída são ajustados\n",
        "          print(f\"    weights[camada][i] = {weights[camada][i].values}\")\n",
        "          print(f\"    erro_geral = {erro_geral}\")\n",
        "          print(f\"    indices = {indices}\")\n",
        "          weights[camada][i] = weights[camada][i] + (n*erro_geral) * indices\n",
        "          print(f\"    nweights[camada][i] = {weights[camada][i].values}\")\n",
        "\n",
        "          print(f\"    \\nweights[camada]: \\n {weights[camada]}\")\n",
        "          \n",
        "        else:\n",
        "          \n",
        "          print(f\"    weights[camada]: \\n {weights[camada][i]}\\n\\n\")\n",
        "          #9 - os pesos da camada oculta são ajustados\n",
        "          erro_geral = weights[camada+1][\"erro\"].iloc[i]\n",
        "          erro_linha = weights[camada][i].values*erro_geral #lembrar de por funcao\n",
        "          weights[camada][\"erro\"] = erro_linha\n",
        "          primeira = False\n",
        "          #8 - os pesos da saída são ajustados\n",
        "          print(f\"    weights[{camada}][{i}] = {weights[camada][i].values}\") # O ERRO TA AQUI\n",
        "          print(f\"    erro_geral = {erro_geral}\")\n",
        "          print(f\"    indices = {indices}\")\n",
        "          print(f\"    n = {n}\")\n",
        "          weights[camada][i] = weights[camada][i] + (n* erro_geral) * indices\n",
        "          print(f\"    weights[{camada}][{i}] = {weights[camada][i].values}\")\n",
        "\n",
        "          print(f\"    \\nweights[camada]: PROCESSADA\\n {weights[camada]}\")\n",
        "  return weights\n",
        "\n",
        "\n"
      ],
      "metadata": {
        "id": "cuG4bN5rCHLb"
      },
      "execution_count": null,
      "outputs": []
    },
    {
      "cell_type": "code",
      "source": [
        "resultado = processa_rede(weights)"
      ],
      "metadata": {
        "colab": {
          "base_uri": "https://localhost:8080/"
        },
        "id": "6z-rbQnBgOTT",
        "outputId": "0748696c-0c5f-4cd3-cd7b-ab4f34cfd681"
      },
      "execution_count": null,
      "outputs": [
        {
          "output_type": "stream",
          "name": "stdout",
          "text": [
            "resultado = [0.03705019]\n"
          ]
        }
      ]
    },
    {
      "cell_type": "code",
      "source": [
        "erro_geral = (classe_desejada - resultado) * func_transferencia_derivada\n",
        "erro_geral"
      ],
      "metadata": {
        "colab": {
          "base_uri": "https://localhost:8080/"
        },
        "id": "f8nkQmGXhG6R",
        "outputId": "d553299d-ccce-4c41-ace1-fd5b8e9aec77"
      },
      "execution_count": null,
      "outputs": [
        {
          "output_type": "execute_result",
          "data": {
            "text/plain": [
              "0.48147490679687477"
            ]
          },
          "metadata": {},
          "execution_count": 127
        }
      ]
    },
    {
      "cell_type": "code",
      "source": [
        "weights = ajusta_pesos(weights,erro_geral)\n"
      ],
      "metadata": {
        "id": "jDGntrirfPrp"
      },
      "execution_count": null,
      "outputs": []
    },
    {
      "cell_type": "code",
      "source": [
        "erro = True\n",
        "valorErroEntrada = 0.1\n",
        "numeroIteracoes = False\n",
        "numeroIteracoesInt = 500\n",
        "i = 0\n",
        "while(True):\n",
        "  resultado = processa_rede(weights)\n",
        "  erro_geral = (classe_desejada - resultado) * func_transferencia_derivada\n",
        "  weights = ajusta_pesos(weights,erro_geral)\n",
        "\n",
        "  if(erro == True) and (erro_geral < valorErroEntrada):\n",
        "    print(\"Resultado: \", resultado)\n",
        "    break\n",
        "  if numeroIteracoes == True and numeroIteracoesInt < i:\n",
        "    print(\"Resultado: \" + resultado)\n",
        "    break\n",
        "\n",
        "  i = i + 1"
      ],
      "metadata": {
        "id": "0TDHjoDb7fwI",
        "outputId": "30d448b0-69af-4838-e4bd-ad29d3bf4845",
        "colab": {
          "base_uri": "https://localhost:8080/"
        }
      },
      "execution_count": null,
      "outputs": [
        {
          "output_type": "stream",
          "name": "stdout",
          "text": [
            "resultado = [1.00166037]\n",
            "\n",
            "==INICIANDO AJUSTES DE PESO==\n",
            "\n",
            "\n",
            "@@@@@@@@@@@@@@@@@@@@@@@@@@@@\n",
            "-CAMADA: 1\n",
            "    weights[camada]: \n",
            "                  0      erro\n",
            "2.798348  0.236907  0.000248\n",
            "2.161425  0.620134  0.000655\n",
            "\n",
            "\n",
            "    ----------\n",
            "COLUNA: 0\n",
            "    -PRIMEIRA CAMADA SENDO PROCESSADA\n",
            "    weights[camada][i] = [0.23690667 0.620134  ]\n",
            "    erro_geral = -0.0008301871320843812\n",
            "    indices = [2.79834841 2.16142536]\n",
            "    nweights[camada][i] = [0.23597741 0.61941624]\n",
            "    \n",
            "weights[camada]: \n",
            "                  0      erro\n",
            "2.798348  0.235977 -0.000098\n",
            "2.161425  0.619416 -0.000257\n",
            "\n",
            "@@@@@@@@@@@@@@@@@@@@@@@@@@@@\n",
            "-CAMADA: 0\n",
            "    weights[camada]: \n",
            "           0         1      erro\n",
            "2  1.230261  0.734285  0.000481\n",
            "3  1.045392  0.951427  0.000623\n",
            "\n",
            "\n",
            "    ----------\n",
            "COLUNA: 0\n",
            "    weights[camada]: \n",
            " 2    1.230261\n",
            "3    1.045392\n",
            "Name: 0, dtype: float64\n",
            "\n",
            "\n",
            "    weights[0][0] = [1.23026105 1.04539157]\n",
            "    erro_geral = -9.833843404326927e-05\n",
            "    indices = [2 3]\n",
            "    n = 0.4\n",
            "    weights[0][0] = [1.23018238 1.04527357]\n",
            "    \n",
            "weights[camada]: PROCESSADA\n",
            "           0         1      erro\n",
            "2  1.230182  0.734285 -0.000121\n",
            "3  1.045274  0.951427 -0.000103\n",
            "    ----------\n",
            "COLUNA: 1\n",
            "    weights[camada]: \n",
            " 2    0.734285\n",
            "3    0.951427\n",
            "Name: 1, dtype: float64\n",
            "\n",
            "\n",
            "    weights[0][1] = [0.73428473 0.95142709]\n",
            "    erro_geral = -0.00025741363243572115\n",
            "    indices = [2 3]\n",
            "    n = 0.4\n",
            "    weights[0][1] = [0.7340788  0.95111819]\n",
            "    \n",
            "weights[camada]: PROCESSADA\n",
            "           0         1      erro\n",
            "2  1.230182  0.734079 -0.000189\n",
            "3  1.045274  0.951118 -0.000245\n",
            "Resultado:  1.0016603742641688\n"
          ]
        }
      ]
    }
  ]
}